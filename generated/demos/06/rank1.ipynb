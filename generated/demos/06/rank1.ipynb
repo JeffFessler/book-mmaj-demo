{
 "cells": [
  {
   "cell_type": "markdown",
   "source": [
    "# Rank-1 approximation"
   ],
   "metadata": {}
  },
  {
   "cell_type": "markdown",
   "source": [
    "This example illustrates rank-1 approximations\n",
    "using the Julia language."
   ],
   "metadata": {}
  },
  {
   "cell_type": "markdown",
   "source": [
    "This entire page was generated using a single Julia file:\n",
    "[rank1.jl](https://github.com/JeffFessler/book-mmaj-demo/blob/main/docs/lit/demos/06/rank1.jl)."
   ],
   "metadata": {}
  },
  {
   "cell_type": "markdown",
   "source": [
    "First we add the Julia packages that are need for this demo.\n",
    "Change `false` to `true` in the following code block\n",
    "if you are using any of the following packages for the first time."
   ],
   "metadata": {}
  },
  {
   "outputs": [],
   "cell_type": "code",
   "source": [
    "if false\n",
    "    import Pkg\n",
    "    Pkg.add([\n",
    "        \"LinearAlgebra\"\n",
    "        \"Plots\"\n",
    "        \"Random\"\n",
    "        \"InteractiveUtils\"\n",
    "    ])\n",
    "end"
   ],
   "metadata": {},
   "execution_count": null
  },
  {
   "cell_type": "markdown",
   "source": [
    "Now tell this Julia session to use the following packages for this example.\n",
    "Run `Pkg.add()` in the preceding code block first, if needed."
   ],
   "metadata": {}
  },
  {
   "outputs": [],
   "cell_type": "code",
   "source": [
    "using LinearAlgebra: svd, rank\n",
    "using Random: seed!\n",
    "using Plots; default(label=\"\", markerstrokecolor=:auto)\n",
    "using MIRTjim: prompt\n",
    "using InteractiveUtils: versioninfo"
   ],
   "metadata": {},
   "execution_count": null
  },
  {
   "cell_type": "markdown",
   "source": [
    "The following line is helpful when running this jl-file as a script;\n",
    "this way it will prompt user to hit a key after each image is displayed."
   ],
   "metadata": {}
  },
  {
   "outputs": [],
   "cell_type": "code",
   "source": [
    "isinteractive() && prompt(:prompt);"
   ],
   "metadata": {},
   "execution_count": null
  },
  {
   "cell_type": "markdown",
   "source": [
    "## Generate data"
   ],
   "metadata": {}
  },
  {
   "cell_type": "markdown",
   "source": [
    "Noisy data with slope=1.  Both x and y values are noisy!"
   ],
   "metadata": {}
  },
  {
   "outputs": [],
   "cell_type": "code",
   "source": [
    "seed!(0)\n",
    "x0 = 1:8 # true x locations\n",
    "x = x0 + 2*randn(size(x0)) # called \"errors in variables\"\n",
    "y = x0 + 2*randn(size(x0)); # noisy samples"
   ],
   "metadata": {},
   "execution_count": null
  },
  {
   "cell_type": "markdown",
   "source": [
    "Plotting utility function"
   ],
   "metadata": {}
  },
  {
   "outputs": [],
   "cell_type": "code",
   "source": [
    "lineplot = (p, s, c, l; w=3, t=:dash) ->\n",
    "    plot!(p, 0:10, (0:10)*s, line=(c,t), label=l, width=w)\n",
    "function plotdata()\n",
    "    p = scatter(x, y, label=\"data\", legend=:bottomright,\n",
    "        color=:blue, markersize=7,\n",
    "        aspect_ratio=:equal, xtick=0:4:8, ytick=0:4:8,\n",
    "        xlabel=\"x\", ylabel=\"y\", xlim=(0,10), ylim=(0,10))\n",
    "    lineplot(p, 1, :red, \"true\", t=:solid, w=2)\n",
    "end\n",
    "pl = plotdata()"
   ],
   "metadata": {},
   "execution_count": null
  },
  {
   "outputs": [],
   "cell_type": "code",
   "source": [
    "prompt()"
   ],
   "metadata": {},
   "execution_count": null
  },
  {
   "cell_type": "markdown",
   "source": [
    "## Rank-1 approximation"
   ],
   "metadata": {}
  },
  {
   "cell_type": "markdown",
   "source": [
    "To make a low-rank approximation, collect data into a matrix"
   ],
   "metadata": {}
  },
  {
   "outputs": [],
   "cell_type": "code",
   "source": [
    "A = [x'; y']"
   ],
   "metadata": {},
   "execution_count": null
  },
  {
   "cell_type": "markdown",
   "source": [
    "Examine singular values"
   ],
   "metadata": {}
  },
  {
   "outputs": [],
   "cell_type": "code",
   "source": [
    "U, s, V = svd(A)\n",
    "s # 2nd singular value is much smaller than 1st"
   ],
   "metadata": {},
   "execution_count": null
  },
  {
   "cell_type": "markdown",
   "source": [
    "Construct rank-1 approximation"
   ],
   "metadata": {}
  },
  {
   "outputs": [],
   "cell_type": "code",
   "source": [
    "B = U[:,1] * s[1] * V[:,1]' # rank-1 approximation\n",
    "rank(B)"
   ],
   "metadata": {},
   "execution_count": null
  },
  {
   "outputs": [],
   "cell_type": "code",
   "source": [
    "B"
   ],
   "metadata": {},
   "execution_count": null
  },
  {
   "cell_type": "markdown",
   "source": [
    "### Plot rank-1 approximation"
   ],
   "metadata": {}
  },
  {
   "outputs": [],
   "cell_type": "code",
   "source": [
    "xb = B[1,:]\n",
    "yb = B[2,:]\n",
    "\n",
    "lineplot(pl, (xb\\yb)[1], :black, \"\")\n",
    "scatter!(pl, xb, yb, color=:black, markersize=5, marker=:square, label=\"rank1\")"
   ],
   "metadata": {},
   "execution_count": null
  },
  {
   "outputs": [],
   "cell_type": "code",
   "source": [
    "prompt()"
   ],
   "metadata": {},
   "execution_count": null
  },
  {
   "cell_type": "markdown",
   "source": [
    "### Now instead use least-squares estimation to estimate slope:"
   ],
   "metadata": {}
  },
  {
   "outputs": [],
   "cell_type": "code",
   "source": [
    "slope = y'*x / (x'*x) # cf inv(A'A) * A'b\n",
    "slope = (x \\ y)[1] # cf A \\ b"
   ],
   "metadata": {},
   "execution_count": null
  },
  {
   "cell_type": "markdown",
   "source": [
    "### Plot the LS fit and the low-rank approximation on same graph"
   ],
   "metadata": {}
  },
  {
   "outputs": [],
   "cell_type": "code",
   "source": [
    "lineplot(pl, slope, :green, \"LS\")"
   ],
   "metadata": {},
   "execution_count": null
  },
  {
   "outputs": [],
   "cell_type": "code",
   "source": [
    "prompt()"
   ],
   "metadata": {},
   "execution_count": null
  },
  {
   "cell_type": "markdown",
   "source": [
    "### Illustrate the Frobenius norm approximation error graphically"
   ],
   "metadata": {}
  },
  {
   "outputs": [],
   "cell_type": "code",
   "source": [
    "pl = plotdata()\n",
    "for i in 1:length(xb)\n",
    "    plot!(pl, [x[i], xb[i]], [y[i], yb[i]], color=:black, label=\"\", width=2)\n",
    "end\n",
    "lineplot(pl, (xb\\yb)[1], :black, \"\")\n",
    "scatter!(pl, xb, yb, color=:black, markersize=5, marker=:square, label=\"rank1\")"
   ],
   "metadata": {},
   "execution_count": null
  },
  {
   "outputs": [],
   "cell_type": "code",
   "source": [
    "prompt()"
   ],
   "metadata": {},
   "execution_count": null
  },
  {
   "cell_type": "markdown",
   "source": [
    "### Illustrate the LS residual graphically"
   ],
   "metadata": {}
  },
  {
   "outputs": [],
   "cell_type": "code",
   "source": [
    "xl = x; yl = slope*xl # LS points\n",
    "pl = plotdata()\n",
    "for i in 1:length(x)\n",
    "    plot!(pl, [x[i], xl[i]], [y[i], yl[i]], color=:green, label=\"\", width=2)\n",
    "end\n",
    "lineplot(pl, slope, :green, \"\")\n",
    "scatter!(pl, xl, yl, color=:green, markersize=5, marker=:square, label=\"LS\")"
   ],
   "metadata": {},
   "execution_count": null
  },
  {
   "outputs": [],
   "cell_type": "code",
   "source": [
    "prompt()"
   ],
   "metadata": {},
   "execution_count": null
  },
  {
   "cell_type": "markdown",
   "source": [
    "## Reproducibility"
   ],
   "metadata": {}
  },
  {
   "cell_type": "markdown",
   "source": [
    "This page was generated with the following version of Julia:"
   ],
   "metadata": {}
  },
  {
   "outputs": [],
   "cell_type": "code",
   "source": [
    "io = IOBuffer(); versioninfo(io); split(String(take!(io)), '\\n')"
   ],
   "metadata": {},
   "execution_count": null
  },
  {
   "cell_type": "markdown",
   "source": [
    "And with the following package versions"
   ],
   "metadata": {}
  },
  {
   "outputs": [],
   "cell_type": "code",
   "source": [
    "import Pkg; Pkg.status()"
   ],
   "metadata": {},
   "execution_count": null
  },
  {
   "cell_type": "markdown",
   "source": [
    "---\n",
    "\n",
    "*This notebook was generated using [Literate.jl](https://github.com/fredrikekre/Literate.jl).*"
   ],
   "metadata": {}
  }
 ],
 "nbformat_minor": 3,
 "metadata": {
  "language_info": {
   "file_extension": ".jl",
   "mimetype": "application/julia",
   "name": "julia",
   "version": "1.7.2"
  },
  "kernelspec": {
   "name": "julia-1.7",
   "display_name": "Julia 1.7.2",
   "language": "julia"
  }
 },
 "nbformat": 4
}
