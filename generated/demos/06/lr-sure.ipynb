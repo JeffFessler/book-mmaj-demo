{
 "cells": [
  {
   "cell_type": "markdown",
   "source": [
    "# Low-Rank SURE"
   ],
   "metadata": {}
  },
  {
   "cell_type": "markdown",
   "source": [
    "This example illustrates\n",
    "Stein's unbiased risk estimation (SURE)\n",
    "for parameter selection\n",
    "in low-rank matrix approximation,\n",
    "using the Julia language."
   ],
   "metadata": {}
  },
  {
   "cell_type": "markdown",
   "source": [
    "This entire page was generated using a single Julia file:\n",
    "[lr-sure.jl](https://github.com/JeffFessler/book-mmaj-demo/blob/main/docs/lit/demos/06/lr-sure.jl)."
   ],
   "metadata": {}
  },
  {
   "cell_type": "markdown",
   "source": [
    "First we add the Julia packages that are need for this demo.\n",
    "Change `false` to `true` in the following code block\n",
    "if you are using any of the following packages for the first time."
   ],
   "metadata": {}
  },
  {
   "outputs": [],
   "cell_type": "code",
   "source": [
    "if false\n",
    "    import Pkg\n",
    "    Pkg.add([\n",
    "        \"LinearAlgebra\"\n",
    "        \"MIRTjim\"\n",
    "        \"Plots\"\n",
    "        \"Random\"\n",
    "        \"InteractiveUtils\"\n",
    "    ])\n",
    "end"
   ],
   "metadata": {},
   "execution_count": null
  },
  {
   "cell_type": "markdown",
   "source": [
    "Now tell this Julia session to use the following packages for this example.\n",
    "Run `Pkg.add()` in the preceding code block first, if needed."
   ],
   "metadata": {}
  },
  {
   "outputs": [],
   "cell_type": "code",
   "source": [
    "using LinearAlgebra: svd, svdvals, Diagonal, norm\n",
    "using Random: seed!\n",
    "using Plots; default(label=\"\", markerstrokecolor=:auto, markersize=7,\n",
    " guidefontsize=13, tickfontsize=12, legendfontsize=13, widen=true)\n",
    "using LaTeXStrings\n",
    "using MIRTjim: prompt\n",
    "using InteractiveUtils: versioninfo"
   ],
   "metadata": {},
   "execution_count": null
  },
  {
   "cell_type": "markdown",
   "source": [
    "The following line is helpful when running this jl-file as a script;\n",
    "this way it will prompt user to hit a key after each image is displayed."
   ],
   "metadata": {}
  },
  {
   "outputs": [],
   "cell_type": "code",
   "source": [
    "isinteractive() && prompt(:prompt);"
   ],
   "metadata": {},
   "execution_count": null
  },
  {
   "cell_type": "markdown",
   "source": [
    "## Generate data"
   ],
   "metadata": {}
  },
  {
   "cell_type": "markdown",
   "source": [
    "Noiseless low-rank matrix and noisy data matrix"
   ],
   "metadata": {}
  },
  {
   "outputs": [],
   "cell_type": "code",
   "source": [
    "M, N = 100, 50 # problem size\n",
    "seed!(0)\n",
    "Ktrue = 5 # true rank (planted model)\n",
    "X = svd(randn(M,Ktrue)).U * Diagonal(1:Ktrue) * svd(randn(Ktrue,N)).Vt\n",
    "sig0 = 0.03 # noise standard deviation\n",
    "Y = X + sig0 * randn(size(X)) # noisy\n",
    "sy = svdvals(Y)\n",
    "sx = svdvals(X)\n",
    "sx[1:Ktrue]"
   ],
   "metadata": {},
   "execution_count": null
  },
  {
   "outputs": [],
   "cell_type": "code",
   "source": [
    "sy[1:Ktrue]"
   ],
   "metadata": {},
   "execution_count": null
  },
  {
   "cell_type": "markdown",
   "source": [
    "### Plot singular values"
   ],
   "metadata": {}
  },
  {
   "outputs": [],
   "cell_type": "code",
   "source": [
    "plot(xlabel=L\"k\", ylabel=L\"\\sigma\")\n",
    "scatter!(1:N, sy, color=:blue, label=L\"\\sigma_k(Y) \\ \\mathrm{noisy}\")\n",
    "scatter!(1:N, sx, color=:red, label=L\"\\sigma_k(X) \\ \\mathrm{noiseless}\")\n",
    "plot!(xtick=[1, Ktrue, N], ytick=0:5, xlim=(1,N), ylim=(0, 5.5))"
   ],
   "metadata": {},
   "execution_count": null
  },
  {
   "outputs": [],
   "cell_type": "code",
   "source": [
    "prompt()"
   ],
   "metadata": {},
   "execution_count": null
  },
  {
   "cell_type": "markdown",
   "source": [
    "## Low-rank approximation with various ranks"
   ],
   "metadata": {}
  },
  {
   "outputs": [],
   "cell_type": "code",
   "source": [
    "(U, sy, V) = svd(Y)\n",
    "nrmse_K = zeros(N)\n",
    "nrmsd_K = zeros(N)\n",
    "nrmsd = (D) -> norm(D) / norm(Y) * 100\n",
    "nrmse = (D) -> norm(D) / norm(X) * 100\n",
    "for K=1:N\n",
    "    Xh = U[:,1:K] * Diagonal(sy[1:K]) * V[:,1:K]'\n",
    "    nrmsd_K[K] = nrmsd(Xh - Y)\n",
    "    nrmse_K[K] = nrmse(Xh - X)\n",
    "end\n",
    "nrmsd_K = [nrmsd(0 .- Y); nrmsd_K]\n",
    "nrmse_K = [nrmse(0 .- X); nrmse_K]\n",
    "klist = 0:N;"
   ],
   "metadata": {},
   "execution_count": null
  },
  {
   "cell_type": "markdown",
   "source": [
    "### Plot normalized root mean-squared error/difference versus rank K"
   ],
   "metadata": {}
  },
  {
   "outputs": [],
   "cell_type": "code",
   "source": [
    "plot(xtick=[0, 2, Ktrue, N], ytick=0:20:100,\n",
    "    xlabel=L\"K\", ylabel=\"'Error' [%]\", xlim=(1,N), ylim=(0, 100))\n",
    "scatter!(klist, nrmse_K, color=:blue,\n",
    "    label=L\"\\mathrm{NRMSE\\ } \\|\\hat{X}_K - X\\|_F / \\|X\\|_F \\cdot 100\\%\")\n",
    "scatter!(klist, nrmsd_K, color=:red,\n",
    "    label=L\"\\mathrm{NRMSD\\ } \\|\\hat{X}_K - Y\\|_F / \\|Y\\|_F \\cdot 100\\%\")"
   ],
   "metadata": {},
   "execution_count": null
  },
  {
   "outputs": [],
   "cell_type": "code",
   "source": [
    "prompt()"
   ],
   "metadata": {},
   "execution_count": null
  },
  {
   "cell_type": "markdown",
   "source": [
    "## Explore (nuclear norm) regularized version"
   ],
   "metadata": {}
  },
  {
   "outputs": [],
   "cell_type": "code",
   "source": [
    "soft = (s,β) -> max.(s-β,0) # soft threshold function\n",
    "dsoft = (s,β) -> Float32.(s .> β) # \"derivative\" thereof\n",
    "reglist = [LinRange(0, 1, 20); 1:0.25:6]\n",
    "Nr = length(reglist)\n",
    "nrmse_reg = zeros(Nr)\n",
    "nrmsd_reg = zeros(Nr)\n",
    "for ir=1:Nr\n",
    "    reg = reglist[ir]\n",
    "    Xh = U * Diagonal(soft.(sy,reg)) * V'\n",
    "    nrmsd_reg[ir] = nrmsd(Xh - Y)\n",
    "    nrmse_reg[ir] = nrmse(Xh - X)\n",
    "end;"
   ],
   "metadata": {},
   "execution_count": null
  },
  {
   "cell_type": "markdown",
   "source": [
    "### Plot NRMSE and NRMSD versus regularization parameter"
   ],
   "metadata": {}
  },
  {
   "outputs": [],
   "cell_type": "code",
   "source": [
    "plot(xtick=0:6, ytick=0:20:100, legend=:bottomright,\n",
    "    xlabel=L\"\\beta\", ylabel=\"'Error' [%]\", xlim=(0,6), ylim=(0, 100))\n",
    "scatter!(reglist, nrmse_reg, color=:blue,\n",
    "    label=L\"\\mathrm{NRMSE\\ } \\|\\hat{X}_{\\beta} - X\\|_F / \\|X\\|_F \\cdot 100\\%\")\n",
    "scatter!(reglist, nrmsd_reg, color=:red,\n",
    "    label=L\"\\mathrm{NRMSD\\ } \\|\\hat{X}_{\\beta} - Y\\|_F / \\|Y\\|_F \\cdot 100\\%\")"
   ],
   "metadata": {},
   "execution_count": null
  },
  {
   "outputs": [],
   "cell_type": "code",
   "source": [
    "prompt()"
   ],
   "metadata": {},
   "execution_count": null
  },
  {
   "cell_type": "markdown",
   "source": [
    "## Explore SURE for selecting $\\beta$\n",
    "\n",
    "$SURE(\\beta) = \\Vert \\hat{X} - Y \\Vert^2 - MN \\sigma_0^2 + 2 \\sigma_0^2 \\left( |M - N| \\sum_{i=1}^{\\min(M,N)} \\frac{h(\\sigma_i;\\beta)}{\\sigma_i} + \\sum_{i=1}^{\\min(M,N)} \\dot{h}_i(\\sigma_i;\\beta) + 2 \\sum_{i \\neq j}^{\\min(M,N)} \\frac{\\sigma_i h_i(\\sigma_i;\\beta)}{\\sigma_i^2 - \\sigma_j^2} \\right) $"
   ],
   "metadata": {}
  },
  {
   "cell_type": "markdown",
   "source": [
    "sy: singular values of Y\n",
    "reg: regularization parameter\n",
    "v0 = sigma_0^2 noise variance"
   ],
   "metadata": {}
  },
  {
   "outputs": [],
   "cell_type": "code",
   "source": [
    "function sure(sy, reg, v0, M, N)\n",
    "    sh = soft.(sy, reg) # estimated singular values\n",
    "    big = sy.^2 .- (sy.^2)'\n",
    "    big[big .== 0] .= Inf # trick to avoid divide by 0\n",
    "    big = (sy .* sh) ./ big # [sy[i] * sh[i] / big[i,j] for i=1:N, j=1:N]\n",
    "    big = sum(big)\n",
    "    norm(sh - sy)^2 - M*N*v0 + 2*v0*(abs(M-N)*sum(sh ./ sy) + sum(dsoft.(sy,reg)) + 2*big)\n",
    "end"
   ],
   "metadata": {},
   "execution_count": null
  },
  {
   "cell_type": "markdown",
   "source": [
    "### Evaluate SURE for each candidate regularization parameter"
   ],
   "metadata": {}
  },
  {
   "outputs": [],
   "cell_type": "code",
   "source": [
    "sure_reg = [sure(sy, reglist[ir], sig0^2, M, N) for ir=1:Nr]\n",
    "reg_best = reglist[argmin(sure_reg)] # SURE pick for β"
   ],
   "metadata": {},
   "execution_count": null
  },
  {
   "cell_type": "markdown",
   "source": [
    "### Plot NRMSE and NRMSD versus regularization parameter"
   ],
   "metadata": {}
  },
  {
   "outputs": [],
   "cell_type": "code",
   "source": [
    "plot(xtick=[round(reg_best,digits=3), 6], ytick=0:20:100, legend=:bottomright,\n",
    "    xlabel=L\"\\beta\", ylabel=\"'Error' [%]\", xlim=(0,6), ylim=(0, 100))\n",
    "scatter!(reglist, nrmse_reg, color=:blue,\n",
    "    label=L\"\\mathrm{NRMSE\\ } \\|\\hat{X}_\\beta - X\\|_F / \\|X\\|_F \\cdot 100\\%\",)\n",
    "scatter!(reglist, nrmsd_reg, color=:red,\n",
    "    label=L\"\\mathrm{NRMSD\\ } \\|\\hat{X}_\\beta - Y\\|_F / \\|Y\\|_F \\cdot 100\\%\")\n",
    "scatter!(reglist, sqrt.(sure_reg)/norm(Y)*100, color=:green,\n",
    "    label=L\"(\\mathrm{SURE}(\\beta))^{1/2} / \\|Y\\|_F \\cdot 100\\%\")"
   ],
   "metadata": {},
   "execution_count": null
  },
  {
   "outputs": [],
   "cell_type": "code",
   "source": [
    "prompt()"
   ],
   "metadata": {},
   "execution_count": null
  },
  {
   "cell_type": "markdown",
   "source": [
    "### Examine shrunk singular values for best regularization parameter"
   ],
   "metadata": {}
  },
  {
   "outputs": [],
   "cell_type": "code",
   "source": [
    "sh = soft.(sy,reg_best)\n",
    "plot(xtick=[1, Ktrue, sum(sh .!= 0), N], ytick=0:6,\n",
    "    xlabel=L\"k\", ylabel=L\"\\sigma\", xlim=(1,N), ylim=(0,5.5))\n",
    "scatter!(1:N, sy, color=:blue, label=L\"\\sigma_k(Y) \\ \\mathrm{noisy}\")\n",
    "scatter!(1:N, sx, color=:red, label=L\"\\sigma_k(X) \\ \\mathrm{noiseless}\")\n",
    "scatter!(1:N, sh, color=:green, label=L\"\\hat{\\sigma}_k \\ \\mathrm{SURE} \\ \\hat{\\beta}\")"
   ],
   "metadata": {},
   "execution_count": null
  },
  {
   "outputs": [],
   "cell_type": "code",
   "source": [
    "prompt()"
   ],
   "metadata": {},
   "execution_count": null
  },
  {
   "cell_type": "markdown",
   "source": [
    "## Reproducibility"
   ],
   "metadata": {}
  },
  {
   "cell_type": "markdown",
   "source": [
    "This page was generated with the following version of Julia:"
   ],
   "metadata": {}
  },
  {
   "outputs": [],
   "cell_type": "code",
   "source": [
    "io = IOBuffer(); versioninfo(io); split(String(take!(io)), '\\n')"
   ],
   "metadata": {},
   "execution_count": null
  },
  {
   "cell_type": "markdown",
   "source": [
    "And with the following package versions"
   ],
   "metadata": {}
  },
  {
   "outputs": [],
   "cell_type": "code",
   "source": [
    "import Pkg; Pkg.status()"
   ],
   "metadata": {},
   "execution_count": null
  },
  {
   "cell_type": "markdown",
   "source": [
    "---\n",
    "\n",
    "*This notebook was generated using [Literate.jl](https://github.com/fredrikekre/Literate.jl).*"
   ],
   "metadata": {}
  }
 ],
 "nbformat_minor": 3,
 "metadata": {
  "language_info": {
   "file_extension": ".jl",
   "mimetype": "application/julia",
   "name": "julia",
   "version": "1.7.2"
  },
  "kernelspec": {
   "name": "julia-1.7",
   "display_name": "Julia 1.7.2",
   "language": "julia"
  }
 },
 "nbformat": 4
}
