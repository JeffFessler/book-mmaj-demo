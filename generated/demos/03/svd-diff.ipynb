{
 "cells": [
  {
   "cell_type": "markdown",
   "source": [
    "# SVD of Finite Differences"
   ],
   "metadata": {}
  },
  {
   "cell_type": "markdown",
   "source": [
    "This example illustrates the SVD of a first-order finite-difference matrix\n",
    "using the Julia language.\n",
    "This demo was inspired\n",
    "by\n",
    "[Gilbert Strang's 2006 article](https://archive.siam.org/news/news.php?id=828)."
   ],
   "metadata": {}
  },
  {
   "cell_type": "markdown",
   "source": [
    "This entire page was generated using a single Julia file:\n",
    "[svd-diff.jl](https://github.com/JeffFessler/book-mmaj-demo/blob/main/docs/lit/demos/03/svd-diff.jl)."
   ],
   "metadata": {}
  },
  {
   "cell_type": "markdown",
   "source": [
    "First we add the Julia packages that are need for this demo.\n",
    "Change `false` to `true` in the following code block\n",
    "if you are using any of the following packages for the first time."
   ],
   "metadata": {}
  },
  {
   "outputs": [],
   "cell_type": "code",
   "source": [
    "if false\n",
    "    import Pkg\n",
    "    Pkg.add([\n",
    "        \"LinearAlgebra\"\n",
    "        \"Plots\"\n",
    "        \"LaTeXStrings\"\n",
    "        \"MIRTjim\"\n",
    "        \"InteractiveUtils\"\n",
    "    ])\n",
    "end"
   ],
   "metadata": {},
   "execution_count": null
  },
  {
   "cell_type": "markdown",
   "source": [
    "Now tell this Julia session to use the following packages for this example.\n",
    "Run `Pkg.add()` in the preceding code block first, if needed."
   ],
   "metadata": {}
  },
  {
   "outputs": [],
   "cell_type": "code",
   "source": [
    "using LinearAlgebra: norm, I, diag, diagm, Diagonal\n",
    "using Plots; default(label=\"\", markerstrokecolor=:auto, color=:blue)\n",
    "#using LaTeXStrings\n",
    "using MIRTjim: jim, prompt\n",
    "using InteractiveUtils: versioninfo"
   ],
   "metadata": {},
   "execution_count": null
  },
  {
   "cell_type": "markdown",
   "source": [
    "The following line is helpful when running this jl-file as a script;\n",
    "this way it will prompt user to hit a key after each image is displayed."
   ],
   "metadata": {}
  },
  {
   "outputs": [],
   "cell_type": "code",
   "source": [
    "isinteractive() && jim(:prompt, true);"
   ],
   "metadata": {},
   "execution_count": null
  },
  {
   "cell_type": "markdown",
   "source": [
    "## First-order finite-difference matrix"
   ],
   "metadata": {}
  },
  {
   "outputs": [],
   "cell_type": "code",
   "source": [
    "N = 16\n",
    "Δ = diagm(0 => -ones(Int,N-1), 1 => ones(Int,N-1))[1:(N-1),:] # (N-1,N) diff\n",
    "jim(Δ'; title=\"$(N-1) × $N finite-difference matrix Δ\", color=:cividis)"
   ],
   "metadata": {},
   "execution_count": null
  },
  {
   "cell_type": "markdown",
   "source": [
    "## Left singular vectors are cos functions"
   ],
   "metadata": {}
  },
  {
   "outputs": [],
   "cell_type": "code",
   "source": [
    "h = π / N\n",
    "v = k -> cos.(((1:N)*2 .- 1) * k * h / 2) / sqrt(N/2)\n",
    "\n",
    "plot(v(5), line=:stem, marker=:circle, title=\"5th left singular vector\",\n",
    " xtick=1:N, ylims=(-0.5,0.5), yticks=(-1:1)*0.5)"
   ],
   "metadata": {},
   "execution_count": null
  },
  {
   "outputs": [],
   "cell_type": "code",
   "source": [
    "prompt()"
   ],
   "metadata": {},
   "execution_count": null
  },
  {
   "cell_type": "markdown",
   "source": [
    "## Right singular vectors are -sin functions"
   ],
   "metadata": {}
  },
  {
   "outputs": [],
   "cell_type": "code",
   "source": [
    "u = k -> -sin.((1:(N-1)) * k * h) / sqrt(N/2) # \"derivative of cos is -sin\"\n",
    "\n",
    "plot(u(5), line=:stem, marker=:circle, title=\"5th right singular vector\",\n",
    " xtick=1:N, ylims=(-0.5,0.5), yticks=(-1:1)*0.5)"
   ],
   "metadata": {},
   "execution_count": null
  },
  {
   "outputs": [],
   "cell_type": "code",
   "source": [
    "prompt()"
   ],
   "metadata": {},
   "execution_count": null
  },
  {
   "cell_type": "markdown",
   "source": [
    "## Singular values\n",
    "### (Caution: not in descending order)"
   ],
   "metadata": {}
  },
  {
   "outputs": [],
   "cell_type": "code",
   "source": [
    "σ = k -> 2*sin(k*h/2)\n",
    "k = 1:(N-1)\n",
    "\n",
    "scatter(k, σ.(k), title=\"$(N-1) singular values (unordered)\",\n",
    " color=:red, xtick=1:N, ylims=(0,2), yticks=0:2, ywiden=true)"
   ],
   "metadata": {},
   "execution_count": null
  },
  {
   "outputs": [],
   "cell_type": "code",
   "source": [
    "prompt()"
   ],
   "metadata": {},
   "execution_count": null
  },
  {
   "cell_type": "markdown",
   "source": [
    "## SVD components"
   ],
   "metadata": {}
  },
  {
   "outputs": [],
   "cell_type": "code",
   "source": [
    "V = hcat([v(k) for k in 1:(N-1)]...) # (N,N-1) \"V_{N-1}\" DCT\n",
    "U = hcat([u(k) for k in 1:(N-1)]...) # (N-1,N-1) DST\n",
    "Σ = Diagonal(σ.(1:(N-1))) # (N-1,N_1) Σ_N\n",
    "\n",
    "jim(\n",
    " jim(V', \"U: Left singular vectors\"; color=:cividis),\n",
    " jim(U', \"V: Right singular vectors\"; color=:cividis),\n",
    " jim(Σ', \"Σ: Singular values\"; color=:cividis),\n",
    ")"
   ],
   "metadata": {},
   "execution_count": null
  },
  {
   "cell_type": "markdown",
   "source": [
    "## Verify correctness of SVD"
   ],
   "metadata": {}
  },
  {
   "outputs": [],
   "cell_type": "code",
   "source": [
    "@assert all(>(0), diag(Σ)) # singular values are nonnegative\n",
    "@assert Δ * V ≈ U * Σ # \"derivative of cos is -sin\"\n",
    "@assert V'V ≈ I(N-1) # V is semi-unitary\n",
    "@assert U'U ≈ I(N-1) && U*U' ≈ I(N-1) # U is unitary\n",
    "@assert Δ ≈ U * Σ * V' # SVD of Δ"
   ],
   "metadata": {},
   "execution_count": null
  },
  {
   "cell_type": "markdown",
   "source": [
    "## Reproducibility"
   ],
   "metadata": {}
  },
  {
   "cell_type": "markdown",
   "source": [
    "This page was generated with the following version of Julia:"
   ],
   "metadata": {}
  },
  {
   "outputs": [],
   "cell_type": "code",
   "source": [
    "io = IOBuffer(); versioninfo(io); split(String(take!(io)), '\\n')"
   ],
   "metadata": {},
   "execution_count": null
  },
  {
   "cell_type": "markdown",
   "source": [
    "And with the following package versions"
   ],
   "metadata": {}
  },
  {
   "outputs": [],
   "cell_type": "code",
   "source": [
    "import Pkg; Pkg.status()"
   ],
   "metadata": {},
   "execution_count": null
  },
  {
   "cell_type": "markdown",
   "source": [
    "---\n",
    "\n",
    "*This notebook was generated using [Literate.jl](https://github.com/fredrikekre/Literate.jl).*"
   ],
   "metadata": {}
  }
 ],
 "nbformat_minor": 3,
 "metadata": {
  "language_info": {
   "file_extension": ".jl",
   "mimetype": "application/julia",
   "name": "julia",
   "version": "1.7.2"
  },
  "kernelspec": {
   "name": "julia-1.7",
   "display_name": "Julia 1.7.2",
   "language": "julia"
  }
 },
 "nbformat": 4
}
