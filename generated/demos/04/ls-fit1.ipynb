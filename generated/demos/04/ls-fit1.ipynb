{
 "cells": [
  {
   "cell_type": "markdown",
   "source": [
    "# LS fitting"
   ],
   "metadata": {}
  },
  {
   "cell_type": "markdown",
   "source": [
    "This example illustrates least squares (LS) polynomial fitting\n",
    "using the Julia language."
   ],
   "metadata": {}
  },
  {
   "cell_type": "markdown",
   "source": [
    "This entire page was generated using a single Julia file:\n",
    "[ls-fit1.jl](https://github.com/JeffFessler/book-mmaj-demo/blob/main/docs/lit/demos/04/ls-fit1.jl)."
   ],
   "metadata": {}
  },
  {
   "cell_type": "markdown",
   "source": [
    "First we add the Julia packages that are need for this demo.\n",
    "Change `false` to `true` in the following code block\n",
    "if you are using any of the following packages for the first time."
   ],
   "metadata": {}
  },
  {
   "outputs": [],
   "cell_type": "code",
   "source": [
    "if false\n",
    "    import Pkg\n",
    "    Pkg.add([\n",
    "        \"LinearAlgebra\"\n",
    "        \"Plots\"\n",
    "        \"LaTeXStrings\"\n",
    "        \"MIRTjim\"\n",
    "        \"Random\"\n",
    "        \"InteractiveUtils\"\n",
    "    ])\n",
    "end"
   ],
   "metadata": {},
   "execution_count": null
  },
  {
   "cell_type": "markdown",
   "source": [
    "Now tell this Julia session to use the following packages for this example.\n",
    "Run `Pkg.add()` in the preceding code block first, if needed."
   ],
   "metadata": {}
  },
  {
   "outputs": [],
   "cell_type": "code",
   "source": [
    "using LinearAlgebra: Diagonal, svd\n",
    "using Random: seed!\n",
    "using Plots; default(label=\"\", markerstrokecolor=:auto)\n",
    "#using LaTeXStrings\n",
    "using MIRTjim: prompt\n",
    "using InteractiveUtils: versioninfo"
   ],
   "metadata": {},
   "execution_count": null
  },
  {
   "cell_type": "markdown",
   "source": [
    "The following line is helpful when running this jl-file as a script;\n",
    "this way it will prompt user to hit a key after each image is displayed."
   ],
   "metadata": {}
  },
  {
   "outputs": [],
   "cell_type": "code",
   "source": [
    "isinteractive() && prompt(:prompt);"
   ],
   "metadata": {},
   "execution_count": null
  },
  {
   "cell_type": "markdown",
   "source": [
    "## Simulated data from latent nonlinear function"
   ],
   "metadata": {}
  },
  {
   "outputs": [],
   "cell_type": "code",
   "source": [
    "s = (t) -> atan(4*(t-0.5)) # nonlinear function\n",
    "\n",
    "seed!(1) # seed rng\n",
    "M = 15 # how many data points\n",
    "tm = sort(rand(M)) # M random sample locations\n",
    "y = s.(tm) + 0.1 * randn(M) # noisy samples\n",
    "\n",
    "t0 = LinRange(0, 1, 101) # fine sampling for showing curve\n",
    "p0 = scatter(tm, y, color=:blue,\n",
    "    label=\"y (noisy data)\", xlabel=\"t\", ylabel=\"y\", ylim=(-1.3, 1.3))\n",
    "plot!(t0, s.(t0), color=:blue, label=\"s(t) : latent signal\", legend=:topleft)"
   ],
   "metadata": {},
   "execution_count": null
  },
  {
   "outputs": [],
   "cell_type": "code",
   "source": [
    "prompt()"
   ],
   "metadata": {},
   "execution_count": null
  },
  {
   "cell_type": "markdown",
   "source": [
    "## Polynomial fitting"
   ],
   "metadata": {}
  },
  {
   "outputs": [],
   "cell_type": "code",
   "source": [
    "deg = 3 # polynomial degree\n",
    "Afun = (tt) -> [t.^i for t in tt, i in 0:deg] # matrix of monomials\n",
    "A = Afun(tm) # M × 4 matrix\n",
    "p1 = plot(title=\"Columns of matrix A\", xlabel=\"t\", legend=:left)\n",
    "for i in 0:deg\n",
    "    plot!(p1, tm, A[:,i+1], marker=:circle, label = \"A[:,$(i+1)]\")\n",
    "end"
   ],
   "metadata": {},
   "execution_count": null
  },
  {
   "outputs": [],
   "cell_type": "code",
   "source": [
    "prompt()"
   ],
   "metadata": {},
   "execution_count": null
  },
  {
   "cell_type": "markdown",
   "source": [
    "## Fit 4 unknowns with 4 equations"
   ],
   "metadata": {}
  },
  {
   "outputs": [],
   "cell_type": "code",
   "source": [
    "m4 = Int64.(round.(LinRange(1, M-1, 4))) # pick 4 points well separated\n",
    "A4 = A[m4,:] # 4 × 4 matrix\n",
    "x4 = inv(A4) * y[m4] # inverse of 4×4 matrix to solve \"y = A x\"\n",
    "\n",
    "scatter!(p0, tm[m4], y[m4], marker=:circle, color=:red)\n",
    "plot!(p0, t0, Afun(t0)*x4, color=:red, label=\"Fit using 4 of $M points\")"
   ],
   "metadata": {},
   "execution_count": null
  },
  {
   "outputs": [],
   "cell_type": "code",
   "source": [
    "prompt()"
   ],
   "metadata": {},
   "execution_count": null
  },
  {
   "cell_type": "markdown",
   "source": [
    "## Fit 4 unknowns using all M=15 equations"
   ],
   "metadata": {}
  },
  {
   "outputs": [],
   "cell_type": "code",
   "source": [
    "xh = A \\ y # backslash for LS solution using all M samples\n",
    "\n",
    "plot!(p0, t0, Afun(t0)*xh, color=:green, label=\"Fit cubic using all M=$(M) points\")"
   ],
   "metadata": {},
   "execution_count": null
  },
  {
   "outputs": [],
   "cell_type": "code",
   "source": [
    "prompt()"
   ],
   "metadata": {},
   "execution_count": null
  },
  {
   "cell_type": "markdown",
   "source": [
    "## SVD solution"
   ],
   "metadata": {}
  },
  {
   "outputs": [],
   "cell_type": "code",
   "source": [
    "U, s, V = svd(A)\n",
    "s"
   ],
   "metadata": {},
   "execution_count": null
  },
  {
   "cell_type": "markdown",
   "source": [
    "### Verify equivalence of SVD and backslash solutions to LS problem"
   ],
   "metadata": {}
  },
  {
   "outputs": [],
   "cell_type": "code",
   "source": [
    "xh2 = V * Diagonal(1 ./ s) * (U' * y) # SVD-based solution\n",
    "xh3 = V * ( (1 ./ s) .* (U' * y) ) # mathematically equivalent alternate expression\n",
    "\n",
    "@assert xh ≈ xh2\n",
    "@assert xh ≈ xh3"
   ],
   "metadata": {},
   "execution_count": null
  },
  {
   "cell_type": "markdown",
   "source": [
    "## Reproducibility"
   ],
   "metadata": {}
  },
  {
   "cell_type": "markdown",
   "source": [
    "This page was generated with the following version of Julia:"
   ],
   "metadata": {}
  },
  {
   "outputs": [],
   "cell_type": "code",
   "source": [
    "io = IOBuffer(); versioninfo(io); split(String(take!(io)), '\\n')"
   ],
   "metadata": {},
   "execution_count": null
  },
  {
   "cell_type": "markdown",
   "source": [
    "And with the following package versions"
   ],
   "metadata": {}
  },
  {
   "outputs": [],
   "cell_type": "code",
   "source": [
    "import Pkg; Pkg.status()"
   ],
   "metadata": {},
   "execution_count": null
  },
  {
   "cell_type": "markdown",
   "source": [
    "---\n",
    "\n",
    "*This notebook was generated using [Literate.jl](https://github.com/fredrikekre/Literate.jl).*"
   ],
   "metadata": {}
  }
 ],
 "nbformat_minor": 3,
 "metadata": {
  "language_info": {
   "file_extension": ".jl",
   "mimetype": "application/julia",
   "name": "julia",
   "version": "1.7.2"
  },
  "kernelspec": {
   "name": "julia-1.7",
   "display_name": "Julia 1.7.2",
   "language": "julia"
  }
 },
 "nbformat": 4
}
