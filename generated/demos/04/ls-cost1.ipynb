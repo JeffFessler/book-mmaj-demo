{
 "cells": [
  {
   "cell_type": "markdown",
   "source": [
    "# LS cost functions"
   ],
   "metadata": {}
  },
  {
   "cell_type": "markdown",
   "source": [
    "This example illustrates linear least-squares (LS) cost functions\n",
    "and minimum-norm LS (MNLS) solutions\n",
    "using the Julia language."
   ],
   "metadata": {}
  },
  {
   "cell_type": "markdown",
   "source": [
    "This entire page was generated using a single Julia file:\n",
    "[ls-cost1.jl](https://github.com/JeffFessler/book-mmaj-demo/blob/main/docs/lit/demos/04/ls-cost1.jl)."
   ],
   "metadata": {}
  },
  {
   "cell_type": "markdown",
   "source": [
    "First we add the Julia packages that are need for this demo.\n",
    "Change `false` to `true` in the following code block\n",
    "if you are using any of the following packages for the first time."
   ],
   "metadata": {}
  },
  {
   "outputs": [],
   "cell_type": "code",
   "source": [
    "if false\n",
    "    import Pkg\n",
    "    Pkg.add([\n",
    "        \"LinearAlgebra\"\n",
    "        \"Plots\"\n",
    "        \"LaTeXStrings\"\n",
    "        \"MIRTjim\"\n",
    "        \"Random\"\n",
    "        \"InteractiveUtils\"\n",
    "    ])\n",
    "end"
   ],
   "metadata": {},
   "execution_count": null
  },
  {
   "cell_type": "markdown",
   "source": [
    "Now tell this Julia session to use the following packages for this example.\n",
    "Run `Pkg.add()` in the preceding code block first, if needed."
   ],
   "metadata": {}
  },
  {
   "outputs": [],
   "cell_type": "code",
   "source": [
    "using LinearAlgebra: norm, pinv\n",
    "using Random: seed!\n",
    "using Plots; default(label=\"\", markerstrokecolor=:auto, markersize=6, legendfontsize=12, guidefontsize=13, tickfontsize=10)\n",
    "using LaTeXStrings\n",
    "using MIRTjim: prompt\n",
    "using InteractiveUtils: versioninfo"
   ],
   "metadata": {},
   "execution_count": null
  },
  {
   "cell_type": "markdown",
   "source": [
    "The following line is helpful when running this jl-file as a script;\n",
    "this way it will prompt user to hit a key after each image is displayed."
   ],
   "metadata": {}
  },
  {
   "outputs": [],
   "cell_type": "code",
   "source": [
    "isinteractive() && prompt(:prompt);"
   ],
   "metadata": {},
   "execution_count": null
  },
  {
   "cell_type": "markdown",
   "source": [
    "### Under-determined case"
   ],
   "metadata": {}
  },
  {
   "outputs": [],
   "cell_type": "code",
   "source": [
    "A = [1 2] # 1st case: M < N\n",
    "y = [3] # obviously x=[1 1] is one possible solution (but not MNLS)\n",
    "f1(x) = norm(A*x - y)\n",
    "xh1 = A \\ y\n",
    "\n",
    "x1 = LinRange(-1,1,101) * 3\n",
    "x2 = LinRange(-1,1,103) * 3\n",
    "c1 = [f1([x1a, x2a]) for x1a=x1, x2a=x2];\n",
    "\n",
    "color = :viridis\n",
    "contour(x1, x2, c1', label=\"contours\"; color)\n",
    "plot!(aspect_ratio=:equal, xlabel=L\"x_1\", ylabel=L\"x_2\", legend=:bottomleft)\n",
    "scatter!([0], [0], color=:black, markershape=:square, label=\"\")\n",
    "plot!([0, xh1[1]], [0, xh1[2]], line=:magenta, label=\"\")\n",
    "plot!(x1, (y[1] .- A[1,1]*x1)/A[1,2], line=(:blue,:dash), label=\"{x : y=Ax}\")\n",
    "scatter!([1], [1], color=:blue, markershape=:star5, label=\"[1,1]\")\n",
    "scatter!([xh1[1]], [xh1[2]], color=:red, markershape=:circle, label=\"MNLS\",\n",
    " title = \"Under-determined case\")"
   ],
   "metadata": {},
   "execution_count": null
  },
  {
   "outputs": [],
   "cell_type": "code",
   "source": [
    "prompt()"
   ],
   "metadata": {},
   "execution_count": null
  },
  {
   "cell_type": "markdown",
   "source": [
    "### Square but singular case"
   ],
   "metadata": {}
  },
  {
   "outputs": [],
   "cell_type": "code",
   "source": [
    "A = [1 2; 2 4] # 2nd case: M = N but singular A\n",
    "y = [3, 6] # again [1,1] is a solution (but not MNLS solution)\n",
    "f2(x) = norm(A*x - y)\n",
    "xh2 = pinv(A) * y\n",
    "\n",
    "c2 = [f2([x1a, x2a]) for x1a=x1, x2a=x2]\n",
    "contour(x1, x2, c2', label=\"contours\"; color)\n",
    "plot!(aspect_ratio=:equal, xlabel=L\"x_1\", ylabel=L\"x_2\", legend=:bottomleft)\n",
    "scatter!([0], [0], color=:black, markershape=:square, label=\"\")\n",
    "plot!([0, xh2[1]], [0, xh2[2]], line=:magenta, label=\"\")\n",
    "plot!(x1, (y[1] .- A[1,1]*x1)/A[1,2], line=(:blue,:dash), label=\"{x : y[1]=A[1,:] x}\")\n",
    "plot!(x1, (y[2] .- A[2,1]*x1)/A[2,2], line=(:green,:dash), label=\"{x : y[2]=A[2,:] x}\")\n",
    "scatter!([1], [1], color=:blue, markershape=:star5, label=\"[1,1]\")\n",
    "scatter!([xh2[1]], [xh2[2]], color=:red, markershape=:circle, label=\"MNLS\",\n",
    " title = \"Singular case\")"
   ],
   "metadata": {},
   "execution_count": null
  },
  {
   "outputs": [],
   "cell_type": "code",
   "source": [
    "prompt()"
   ],
   "metadata": {},
   "execution_count": null
  },
  {
   "cell_type": "markdown",
   "source": [
    "### Square non-singular case"
   ],
   "metadata": {}
  },
  {
   "outputs": [],
   "cell_type": "code",
   "source": [
    "A = [1 2; 1 3] # 3rd case: M = N with non-singular A\n",
    "y = [3, 4] # now x=[1,1] is the unique solution (by design)\n",
    "f3(x) = norm(A*x - y)\n",
    "xh3 = A \\ y\n",
    "\n",
    "c3 = [f3([x1a, x2a]) for x1a=x1, x2a=x2]\n",
    "contour(x1, x2, c3', label=\"contours\"; color)\n",
    "plot!(aspect_ratio=:equal, xlabel=L\"x_1\", ylabel=L\"x_2\", legend=:bottomleft)\n",
    "plot!(x1, (y[1] .- A[1,1]*x1)/A[1,2], line=(:blue,:dash), label=\"{x : y[1]=A[1,:] x}\")\n",
    "plot!(x1, (y[2] .- A[2,1]*x1)/A[2,2], line=(:green,:dash), label=\"{x : y[2]=A[2,:] x}\")\n",
    "scatter!([xh3[1]], [xh3[2]], color=:red, markershape=:circle, label=\"LLS\",\n",
    " title = \"Non-singular case\")"
   ],
   "metadata": {},
   "execution_count": null
  },
  {
   "outputs": [],
   "cell_type": "code",
   "source": [
    "prompt()"
   ],
   "metadata": {},
   "execution_count": null
  },
  {
   "cell_type": "markdown",
   "source": [
    "### Typical over-determined case"
   ],
   "metadata": {}
  },
  {
   "outputs": [],
   "cell_type": "code",
   "source": [
    "A = [1 2; 1 -1; 2 1] # 4th case: M > N with (typical) inconsistent data\n",
    "y = [3, 2, 1] # no consistent solution\n",
    "f4(x) = norm(A*x - y)\n",
    "xh4 = A \\ y\n",
    "\n",
    "c4 = [f4([x1a, x2a]) for x1a=x1, x2a=x2]\n",
    "contour(x1, x2, c4', label=\"contours\"; color)\n",
    "plot!(aspect_ratio=:equal, xlabel=L\"x_1\", ylabel=L\"x_2\", legend=:bottomleft)\n",
    "plot!(x1, (y[1] .- A[1,1]*x1)/A[1,2], line=(:blue,:dash), label=\"{x : y[1]=A[1,:] x}\")\n",
    "plot!(x1, (y[2] .- A[2,1]*x1)/A[2,2], line=(:green,:dash), label=\"{x : y[2]=A[2,:] x}\")\n",
    "plot!(x1, (y[3] .- A[3,1]*x1)/A[3,2], line=(:purple,:dash), label=\"{x : y[3]=A[3,:] x}\")\n",
    "plot!(xlim=(-3,3), ylim=(-3,3))\n",
    "scatter!([xh4[1]], [xh4[2]], color=:red, markershape=:circle, label=\"LLS\",\n",
    " title = \"Over-determined case\")"
   ],
   "metadata": {},
   "execution_count": null
  },
  {
   "outputs": [],
   "cell_type": "code",
   "source": [
    "prompt()"
   ],
   "metadata": {},
   "execution_count": null
  },
  {
   "cell_type": "markdown",
   "source": [
    "## Reproducibility"
   ],
   "metadata": {}
  },
  {
   "cell_type": "markdown",
   "source": [
    "This page was generated with the following version of Julia:"
   ],
   "metadata": {}
  },
  {
   "outputs": [],
   "cell_type": "code",
   "source": [
    "io = IOBuffer(); versioninfo(io); split(String(take!(io)), '\\n')"
   ],
   "metadata": {},
   "execution_count": null
  },
  {
   "cell_type": "markdown",
   "source": [
    "And with the following package versions"
   ],
   "metadata": {}
  },
  {
   "outputs": [],
   "cell_type": "code",
   "source": [
    "import Pkg; Pkg.status()"
   ],
   "metadata": {},
   "execution_count": null
  },
  {
   "cell_type": "markdown",
   "source": [
    "---\n",
    "\n",
    "*This notebook was generated using [Literate.jl](https://github.com/fredrikekre/Literate.jl).*"
   ],
   "metadata": {}
  }
 ],
 "nbformat_minor": 3,
 "metadata": {
  "language_info": {
   "file_extension": ".jl",
   "mimetype": "application/julia",
   "name": "julia",
   "version": "1.7.2"
  },
  "kernelspec": {
   "name": "julia-1.7",
   "display_name": "Julia 1.7.2",
   "language": "julia"
  }
 },
 "nbformat": 4
}
